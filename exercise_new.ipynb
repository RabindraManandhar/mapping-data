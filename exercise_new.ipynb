{
 "cells": [
  {
   "metadata": {},
   "cell_type": "markdown",
   "source": "## Loading data from a CSV file",
   "id": "1c602483a6679254"
  },
  {
   "metadata": {},
   "cell_type": "markdown",
   "source": "### 1. Using Python Dictionary",
   "id": "b73fd299c856d600"
  },
  {
   "metadata": {},
   "cell_type": "code",
   "source": "from csv import DictReader",
   "id": "627758f3-6cbe-4347-b843-5f682bf6e713",
   "outputs": [],
   "execution_count": null
  },
  {
   "cell_type": "code",
   "id": "e366f49e-05f0-4bfe-9be8-dc49e07f71fa",
   "metadata": {
    "tags": []
   },
   "source": [
    "# Open the CSV file and read it into a list of Dictionaries and ignore unicode errors\n",
    "\n",
    "with open('sample_data/wine-ratings-small.csv', encoding='utf-8', errors='ignore') as f:\n",
    "    reader = DictReader(f)\n",
    "    wines = list(reader)\n",
    "\n",
    "#print(wines)"
   ],
   "outputs": [],
   "execution_count": null
  },
  {
   "cell_type": "code",
   "id": "79e30a7a-6f3d-4fc5-812f-cd478bbaeb1a",
   "metadata": {},
   "source": [
    "# Create new lists with wines with red variety\n",
    "red_wines = []\n",
    "\n",
    "for wine in wines:\n",
    "    if 'Red Wine' in wine['variety']:\n",
    "        red_wines.append(wine)\n",
    "   \n",
    "#print(red_wines)"
   ],
   "outputs": [],
   "execution_count": null
  },
  {
   "metadata": {},
   "cell_type": "code",
   "source": [
    "# Print the dictionaries of first 5 red wines\n",
    "for red_wine in red_wines[:5]:\n",
    "    print(red_wine)"
   ],
   "id": "35b741e9d4395acd",
   "outputs": [],
   "execution_count": null
  },
  {
   "metadata": {},
   "cell_type": "code",
   "source": [
    "# Create new lists with wines with white variety\n",
    "white_wines = []\n",
    "\n",
    "for wine in wines:\n",
    "    if 'White Wine' in wine['variety']:\n",
    "        white_wines.append(wine)\n",
    "   \n",
    "#print(white_wines)"
   ],
   "id": "1bc697c56d395e25",
   "outputs": [],
   "execution_count": null
  },
  {
   "metadata": {},
   "cell_type": "code",
   "source": [
    "for white_wine in white_wines[:5]:\n",
    "    print(white_wine)"
   ],
   "id": "702caeb62a1f3665",
   "outputs": [],
   "execution_count": null
  },
  {
   "metadata": {},
   "cell_type": "code",
   "source": [
    "# Create new lists with wines from Napa region\n",
    "napa_wines = []\n",
    "\n",
    "for wine in wines:\n",
    "    if 'Napa' in wine['region']:\n",
    "        napa_wines.append(wine)\n",
    "   \n",
    "#print(napa_wines)"
   ],
   "id": "2275fa1dd9ba09dc",
   "outputs": [],
   "execution_count": null
  },
  {
   "metadata": {},
   "cell_type": "code",
   "source": [
    "# Print first 5 spain_wines\n",
    "for napa_wine in napa_wines[:5]:\n",
    "    print(napa_wine)"
   ],
   "id": "3d8d61734935a767",
   "outputs": [],
   "execution_count": null
  },
  {
   "metadata": {},
   "cell_type": "code",
   "source": [
    "# Create another list with the highest ratings (e.g. over 90)\n",
    "\n",
    "highest_rated_wines = []\n",
    "\n",
    "# Filter ratings that are over 90.0\n",
    "for wine in wines:\n",
    "    rating = float(wine['rating']) # Convert rating to float for numerical comparisons\n",
    "    if rating > 90.0:\n",
    "        highest_rated_wines.append(wine)\n",
    "\n",
    "print(highest_rated_wines)\n"
   ],
   "id": "e5d6487757dc96cd",
   "outputs": [],
   "execution_count": null
  },
  {
   "metadata": {},
   "cell_type": "code",
   "source": [
    "for highest_rated_wine in highest_rated_wines[:5]:\n",
    "    print(highest_rated_wine)"
   ],
   "id": "81976b776863ea5d",
   "outputs": [],
   "execution_count": null
  },
  {
   "metadata": {},
   "cell_type": "markdown",
   "source": "### Saving all the outputs into a new JSON file.",
   "id": "d24b51ed3c1efbce"
  },
  {
   "metadata": {},
   "cell_type": "code",
   "source": "import json",
   "id": "fda37c15b18fa70a",
   "outputs": [],
   "execution_count": null
  },
  {
   "metadata": {},
   "cell_type": "code",
   "source": [
    "# Saving red wines rows to JSON file\n",
    "with open('red_wines.json', 'w') as f:\n",
    "    json.dump(red_wines, f, indent=4)\n",
    "    \n",
    "print(f\"red_wines list has been saved to 'red_wines.json'\")"
   ],
   "id": "fad8ff1fcdcc6c68",
   "outputs": [],
   "execution_count": null
  },
  {
   "metadata": {},
   "cell_type": "code",
   "source": [
    "# Saving white wines rows to JSON file\n",
    "with open('white_wines.json', 'w') as f:\n",
    "    json.dump(white_wines, f, indent=4)\n",
    "    \n",
    "print(f\"white_wines list has been saved to 'white_wines.json'\")"
   ],
   "id": "71fbff0fe337ae16",
   "outputs": [],
   "execution_count": null
  },
  {
   "metadata": {},
   "cell_type": "code",
   "source": [
    "# Saving napa wines rows to JSON file\n",
    "with open('napa_wines.json', 'w') as f:\n",
    "    json.dump(napa_wines, f, indent=4)\n",
    "    \n",
    "print(f\"napa_wines list has been saved to 'napa_wines.json'\")"
   ],
   "id": "7b814cdd8bced460",
   "outputs": [],
   "execution_count": null
  },
  {
   "metadata": {},
   "cell_type": "code",
   "source": [
    "# Saving highest rated rows to JSON file\n",
    "with open('highest_rated_wines.json', 'w') as f:\n",
    "    json.dump(highest_rated_wines, f, indent=4)\n",
    "    \n",
    "print(f\"highest_rated_wines list has been saved to 'highest_rated_wines.json'\")"
   ],
   "id": "731e3f04440a4df3",
   "outputs": [],
   "execution_count": null
  },
  {
   "metadata": {},
   "cell_type": "markdown",
   "source": "### 2. Using Pandas",
   "id": "c6b8a23a0380b6f4"
  },
  {
   "metadata": {},
   "cell_type": "code",
   "source": "import pandas as pd",
   "id": "6c2c35818a22bfa9",
   "outputs": [],
   "execution_count": null
  },
  {
   "metadata": {},
   "cell_type": "code",
   "source": [
    "df = pd.read_csv('sample_data/wine-ratings-small.csv', index_col=0)\n",
    "df.head()"
   ],
   "id": "9d479a2873f0b868",
   "outputs": [],
   "execution_count": null
  },
  {
   "metadata": {},
   "cell_type": "code",
   "source": [
    "# Filter for red wines variety\n",
    "red_wines = df[df['variety'] == \"Red Wine\"]\n",
    "red_wines.head()"
   ],
   "id": "c59501ade1cec1c6",
   "outputs": [],
   "execution_count": null
  },
  {
   "metadata": {},
   "cell_type": "code",
   "source": [
    "# Filter for white wines variety\n",
    "white_wines = df[df['variety'] == \"White Wine\"]\n",
    "white_wines.head()"
   ],
   "id": "89f058f79b0d463",
   "outputs": [],
   "execution_count": null
  },
  {
   "metadata": {},
   "cell_type": "code",
   "source": [
    "# Filter for wines rated > 90.0 ratings\n",
    "highest_rated_wines = df[df['rating'] > 90]\n",
    "highest_rated_wines.head()"
   ],
   "id": "2193c9c780a04eb0",
   "outputs": [],
   "execution_count": null
  },
  {
   "metadata": {},
   "cell_type": "code",
   "source": [
    "italy_wines = df[df['region'] == 'Italy']\n",
    "italy_wines.head()"
   ],
   "id": "aa1949150ce2add4",
   "outputs": [],
   "execution_count": null
  },
  {
   "metadata": {},
   "cell_type": "code",
   "source": [
    "# OR\n",
    "italy_wines = df[df['region'].isin(['Italy'])]\n",
    "italy_wines.head()"
   ],
   "id": "338cc5ed3657ec74",
   "outputs": [],
   "execution_count": null
  },
  {
   "metadata": {},
   "cell_type": "markdown",
   "source": "**Note:** The output using same method for 'Napa' is empty as shown below because 'Napa' is only a substring in the column 'region'. Hence, .str.contains() can be used to filter substring of a column.",
   "id": "5391d645fa940d82"
  },
  {
   "metadata": {},
   "cell_type": "code",
   "source": [
    "napa_wines = df[df['region'] == 'Napa']\n",
    "napa_wines.head()"
   ],
   "id": "1440dc3b33864a56",
   "outputs": [],
   "execution_count": null
  },
  {
   "metadata": {},
   "cell_type": "code",
   "source": [
    "napa_wines = df[df['region'].str.contains('Napa')]\n",
    "napa_wines.head()"
   ],
   "id": "4c54bf866639c1c5",
   "outputs": [],
   "execution_count": null
  },
  {
   "metadata": {},
   "cell_type": "code",
   "source": "",
   "id": "c6c8eaec024ef34c",
   "outputs": [],
   "execution_count": null
  }
 ],
 "metadata": {
  "kernelspec": {
   "display_name": "Python 3 (ipykernel)",
   "language": "python",
   "name": "python3"
  },
  "language_info": {
   "codemirror_mode": {
    "name": "ipython",
    "version": 3
   },
   "file_extension": ".py",
   "mimetype": "text/x-python",
   "name": "python",
   "nbconvert_exporter": "python",
   "pygments_lexer": "ipython3",
   "version": "3.11.5"
  }
 },
 "nbformat": 4,
 "nbformat_minor": 5
}
